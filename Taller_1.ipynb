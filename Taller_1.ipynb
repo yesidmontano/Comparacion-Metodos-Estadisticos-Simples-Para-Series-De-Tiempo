{
 "cells": [
  {
   "cell_type": "code",
   "execution_count": null,
   "metadata": {},
   "outputs": [],
   "source": [
    "# Taller 1: Fundamentos de analítica II"
   ]
  }
 ],
 "metadata": {
  "language_info": {
   "name": "python"
  }
 },
 "nbformat": 4,
 "nbformat_minor": 2
}
